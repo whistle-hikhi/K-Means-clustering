{
  "nbformat": 4,
  "nbformat_minor": 0,
  "metadata": {
    "colab": {
      "provenance": [],
      "gpuType": "T4",
      "authorship_tag": "ABX9TyOutRF+yjmIa0hZboNwh9TL",
      "include_colab_link": true
    },
    "kernelspec": {
      "name": "python3",
      "display_name": "Python 3"
    },
    "language_info": {
      "name": "python"
    },
    "accelerator": "GPU"
  },
  "cells": [
    {
      "cell_type": "markdown",
      "metadata": {
        "id": "view-in-github",
        "colab_type": "text"
      },
      "source": [
        "<a href=\"https://colab.research.google.com/github/whistle-hikhi/K-Means-clustering/blob/main/divisive_hierarchical_clustering.ipynb\" target=\"_parent\"><img src=\"https://colab.research.google.com/assets/colab-badge.svg\" alt=\"Open In Colab\"/></a>"
      ]
    },
    {
      "cell_type": "code",
      "source": [
        "!nvidia-smi"
      ],
      "metadata": {
        "colab": {
          "base_uri": "https://localhost:8080/"
        },
        "id": "sYVA5zVVa4Eq",
        "outputId": "3cb7067e-5cfa-4fb4-ae1d-92d38cfb56b6"
      },
      "execution_count": 2,
      "outputs": [
        {
          "output_type": "stream",
          "name": "stdout",
          "text": [
            "Thu Mar 27 07:05:32 2025       \n",
            "+-----------------------------------------------------------------------------------------+\n",
            "| NVIDIA-SMI 550.54.15              Driver Version: 550.54.15      CUDA Version: 12.4     |\n",
            "|-----------------------------------------+------------------------+----------------------+\n",
            "| GPU  Name                 Persistence-M | Bus-Id          Disp.A | Volatile Uncorr. ECC |\n",
            "| Fan  Temp   Perf          Pwr:Usage/Cap |           Memory-Usage | GPU-Util  Compute M. |\n",
            "|                                         |                        |               MIG M. |\n",
            "|=========================================+========================+======================|\n",
            "|   0  Tesla T4                       Off |   00000000:00:04.0 Off |                    0 |\n",
            "| N/A   52C    P8             10W /   70W |       0MiB /  15360MiB |      0%      Default |\n",
            "|                                         |                        |                  N/A |\n",
            "+-----------------------------------------+------------------------+----------------------+\n",
            "                                                                                         \n",
            "+-----------------------------------------------------------------------------------------+\n",
            "| Processes:                                                                              |\n",
            "|  GPU   GI   CI        PID   Type   Process name                              GPU Memory |\n",
            "|        ID   ID                                                               Usage      |\n",
            "|=========================================================================================|\n",
            "|  No running processes found                                                             |\n",
            "+-----------------------------------------------------------------------------------------+\n"
          ]
        }
      ]
    },
    {
      "cell_type": "code",
      "source": [
        "%load_ext cuml.accel"
      ],
      "metadata": {
        "colab": {
          "base_uri": "https://localhost:8080/"
        },
        "id": "PEIbhvLfa6DV",
        "outputId": "46651cd0-eb52-47f8-d0e8-46bed3cfb60d"
      },
      "execution_count": 4,
      "outputs": [
        {
          "output_type": "stream",
          "name": "stdout",
          "text": [
            "[2025-03-27 07:06:02.931] [CUML] [info] cuML: Installed accelerator for sklearn.\n",
            "[2025-03-27 07:06:33.183] [CUML] [info] cuML: Installed accelerator for umap.\n",
            "[2025-03-27 07:06:33.312] [CUML] [info] cuML: Installed accelerator for hdbscan.\n",
            "[2025-03-27 07:06:33.312] [CUML] [info] cuML: Successfully initialized accelerator.\n"
          ]
        }
      ]
    },
    {
      "cell_type": "code",
      "source": [
        "import numpy as np\n",
        "import matplotlib.pyplot as plt\n",
        "from sklearn.datasets import fetch_openml\n",
        "from sklearn.cluster import KMeans"
      ],
      "metadata": {
        "id": "rsO85TRCa9pb"
      },
      "execution_count": 5,
      "outputs": []
    },
    {
      "cell_type": "code",
      "source": [
        "X, y = fetch_openml('mnist_784', version=1, return_X_y=True, as_frame=False)\n",
        "subset_size = 1000\n",
        "X_subset = X[:subset_size] / 255.0\n",
        "y_subset = y[:subset_size]"
      ],
      "metadata": {
        "id": "b7iRIsOabRaF"
      },
      "execution_count": 6,
      "outputs": []
    },
    {
      "cell_type": "code",
      "source": [
        "def divisive_clustering(data, n_clusters, current_labels=None):\n",
        "  if current_labels is None:\n",
        "    current_labels = np.zeros(len(data), dtype=int)\n",
        "  if len(np.unique(current_labels)) >= n_clusters:\n",
        "    return current_labels\n",
        "\n",
        "  unique_labels, counts = np.unique(current_labels, return_counts=True)\n",
        "  largest_cluster = unique_labels[np.argmax(counts)]\n",
        "  cluster_data = data[current_labels == largest_cluster]\n",
        "\n",
        "  kmeans = KMeans(n_clusters=n_clusters)\n",
        "  sub_labels = kmeans.fit_predict(cluster_data)\n",
        "\n",
        "  new_labels = current_labels.copy()\n",
        "  mask = (current_labels == largest_cluster)\n",
        "  new_labels[mask] = sub_labels + largest_cluster * 2\n",
        "\n",
        "  return divisive_clustering(data, n_clusters, current_labels=new_labels)\n"
      ],
      "metadata": {
        "id": "fZttBtEibl0Q"
      },
      "execution_count": 7,
      "outputs": []
    },
    {
      "cell_type": "code",
      "source": [
        "%%time\n",
        "labels = divisive_clustering(X_subset, n_clusters=10)"
      ],
      "metadata": {
        "colab": {
          "base_uri": "https://localhost:8080/"
        },
        "id": "YCxu1MFbcm6O",
        "outputId": "0a46d051-6aeb-42ba-c9a9-143aa49ce8db"
      },
      "execution_count": 9,
      "outputs": [
        {
          "output_type": "stream",
          "name": "stdout",
          "text": [
            "CPU times: user 143 ms, sys: 1.88 ms, total: 145 ms\n",
            "Wall time: 158 ms\n"
          ]
        }
      ]
    },
    {
      "cell_type": "code",
      "source": [
        "fig, axes = plt.subplots(2, 5, figsize=(10,4))\n",
        "for i, ax in enumerate(axes.flat):\n",
        "  cluster_points = X_subset[labels == i]\n",
        "  if len(cluster_points) > 0:\n",
        "    centroid = np.mean(cluster_points, axis=0).reshape(28, 28)\n",
        "    ax.imshow(centroid, cmap='gray')\n",
        "    ax.axis('off')\n",
        "    ax.set_title(f'Cluster {i}')\n",
        "\n",
        "plt.tight_layout()\n",
        "plt.show()"
      ],
      "metadata": {
        "colab": {
          "base_uri": "https://localhost:8080/",
          "height": 311
        },
        "id": "HQmtvW_jcsaR",
        "outputId": "6228149b-e284-4e07-b25e-e6bf2d260fab"
      },
      "execution_count": 11,
      "outputs": [
        {
          "output_type": "display_data",
          "data": {
            "text/plain": [
              "<Figure size 1000x400 with 10 Axes>"
            ],
            "image/png": "[encoded data removed]"
          },
          "metadata": {}
        }
      ]
    },
    {
      "cell_type": "code",
      "source": [],
      "metadata": {
        "id": "xH8-xXN7dUek"
      },
      "execution_count": null,
      "outputs": []
    }
  ]
}